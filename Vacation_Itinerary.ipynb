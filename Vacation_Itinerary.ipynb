{
 "cells": [
  {
   "cell_type": "code",
   "execution_count": 18,
   "metadata": {},
   "outputs": [],
   "source": [
    "# Import the dependencies.\n",
    "import pandas as pd\n",
    "import gmaps\n",
    "import requests\n",
    "# Import the API key.\n",
    "from config import g_key"
   ]
  },
  {
   "cell_type": "code",
   "execution_count": 19,
   "metadata": {
    "scrolled": true
   },
   "outputs": [
    {
     "data": {
      "text/html": [
       "<div>\n",
       "<style scoped>\n",
       "    .dataframe tbody tr th:only-of-type {\n",
       "        vertical-align: middle;\n",
       "    }\n",
       "\n",
       "    .dataframe tbody tr th {\n",
       "        vertical-align: top;\n",
       "    }\n",
       "\n",
       "    .dataframe thead th {\n",
       "        text-align: right;\n",
       "    }\n",
       "</style>\n",
       "<table border=\"1\" class=\"dataframe\">\n",
       "  <thead>\n",
       "    <tr style=\"text-align: right;\">\n",
       "      <th></th>\n",
       "      <th>City_ID</th>\n",
       "      <th>City_ID.1</th>\n",
       "      <th>City</th>\n",
       "      <th>Country</th>\n",
       "      <th>Date</th>\n",
       "      <th>Lat</th>\n",
       "      <th>Lng</th>\n",
       "      <th>Max Temp</th>\n",
       "      <th>Humidity</th>\n",
       "      <th>Cloudiness</th>\n",
       "      <th>Wind Speed</th>\n",
       "      <th>Current Description</th>\n",
       "      <th>Rain in Inches (last 3 hours)</th>\n",
       "      <th>Snow in Inches (last 3 hours)</th>\n",
       "    </tr>\n",
       "  </thead>\n",
       "  <tbody>\n",
       "    <tr>\n",
       "      <th>0</th>\n",
       "      <td>0</td>\n",
       "      <td>0</td>\n",
       "      <td>Mahebourg</td>\n",
       "      <td>MU</td>\n",
       "      <td>2020-05-10 20:40:08</td>\n",
       "      <td>-20.41</td>\n",
       "      <td>57.70</td>\n",
       "      <td>73.40</td>\n",
       "      <td>56</td>\n",
       "      <td>40</td>\n",
       "      <td>9.17</td>\n",
       "      <td>scattered clouds</td>\n",
       "      <td>0.0</td>\n",
       "      <td>0.0</td>\n",
       "    </tr>\n",
       "    <tr>\n",
       "      <th>1</th>\n",
       "      <td>1</td>\n",
       "      <td>1</td>\n",
       "      <td>Qaanaaq</td>\n",
       "      <td>GL</td>\n",
       "      <td>2020-05-10 20:40:08</td>\n",
       "      <td>77.48</td>\n",
       "      <td>-69.36</td>\n",
       "      <td>11.98</td>\n",
       "      <td>84</td>\n",
       "      <td>0</td>\n",
       "      <td>2.15</td>\n",
       "      <td>clear sky</td>\n",
       "      <td>0.0</td>\n",
       "      <td>0.0</td>\n",
       "    </tr>\n",
       "    <tr>\n",
       "      <th>2</th>\n",
       "      <td>2</td>\n",
       "      <td>2</td>\n",
       "      <td>Mezen</td>\n",
       "      <td>RU</td>\n",
       "      <td>2020-05-10 20:40:08</td>\n",
       "      <td>65.85</td>\n",
       "      <td>44.24</td>\n",
       "      <td>31.35</td>\n",
       "      <td>98</td>\n",
       "      <td>0</td>\n",
       "      <td>4.79</td>\n",
       "      <td>clear sky</td>\n",
       "      <td>0.0</td>\n",
       "      <td>0.0</td>\n",
       "    </tr>\n",
       "    <tr>\n",
       "      <th>3</th>\n",
       "      <td>3</td>\n",
       "      <td>3</td>\n",
       "      <td>Rikitea</td>\n",
       "      <td>PF</td>\n",
       "      <td>2020-05-10 20:40:09</td>\n",
       "      <td>-23.12</td>\n",
       "      <td>-134.97</td>\n",
       "      <td>76.06</td>\n",
       "      <td>73</td>\n",
       "      <td>4</td>\n",
       "      <td>10.25</td>\n",
       "      <td>clear sky</td>\n",
       "      <td>0.0</td>\n",
       "      <td>0.0</td>\n",
       "    </tr>\n",
       "    <tr>\n",
       "      <th>4</th>\n",
       "      <td>4</td>\n",
       "      <td>4</td>\n",
       "      <td>Port Elizabeth</td>\n",
       "      <td>ZA</td>\n",
       "      <td>2020-05-10 20:40:09</td>\n",
       "      <td>-33.92</td>\n",
       "      <td>25.57</td>\n",
       "      <td>59.00</td>\n",
       "      <td>72</td>\n",
       "      <td>0</td>\n",
       "      <td>3.36</td>\n",
       "      <td>clear sky</td>\n",
       "      <td>0.0</td>\n",
       "      <td>0.0</td>\n",
       "    </tr>\n",
       "  </tbody>\n",
       "</table>\n",
       "</div>"
      ],
      "text/plain": [
       "   City_ID  City_ID.1            City Country                 Date    Lat  \\\n",
       "0        0          0       Mahebourg      MU  2020-05-10 20:40:08 -20.41   \n",
       "1        1          1         Qaanaaq      GL  2020-05-10 20:40:08  77.48   \n",
       "2        2          2           Mezen      RU  2020-05-10 20:40:08  65.85   \n",
       "3        3          3         Rikitea      PF  2020-05-10 20:40:09 -23.12   \n",
       "4        4          4  Port Elizabeth      ZA  2020-05-10 20:40:09 -33.92   \n",
       "\n",
       "      Lng  Max Temp  Humidity  Cloudiness  Wind Speed Current Description  \\\n",
       "0   57.70     73.40        56          40        9.17    scattered clouds   \n",
       "1  -69.36     11.98        84           0        2.15           clear sky   \n",
       "2   44.24     31.35        98           0        4.79           clear sky   \n",
       "3 -134.97     76.06        73           4       10.25           clear sky   \n",
       "4   25.57     59.00        72           0        3.36           clear sky   \n",
       "\n",
       "   Rain in Inches (last 3 hours)  Snow in Inches (last 3 hours)  \n",
       "0                            0.0                            0.0  \n",
       "1                            0.0                            0.0  \n",
       "2                            0.0                            0.0  \n",
       "3                            0.0                            0.0  \n",
       "4                            0.0                            0.0  "
      ]
     },
     "execution_count": 19,
     "metadata": {},
     "output_type": "execute_result"
    }
   ],
   "source": [
    "# Store the CSV you saved created in part one into a DataFrame\n",
    "df = pd.read_csv(\"weather_data/WeatherPy_vacation.csv\")\n",
    "df.head()"
   ]
  },
  {
   "cell_type": "code",
   "execution_count": 20,
   "metadata": {},
   "outputs": [],
   "source": [
    "# Configure gmaps to use your Google API key\n",
    "gmaps.configure(api_key=g_key)"
   ]
  },
  {
   "cell_type": "code",
   "execution_count": 23,
   "metadata": {},
   "outputs": [],
   "source": [
    "# Latitude-longitude pairs\n",
    "Souris = (49.62, -100.26)\n",
    "Winkler = (49.18, -97.94)\n",
    "Artyk = (50.15, -95.88)\n",
    "Dryden = (49.78, -92.75)"
   ]
  },
  {
   "cell_type": "code",
   "execution_count": 31,
   "metadata": {},
   "outputs": [
    {
     "data": {
      "application/vnd.jupyter.widget-view+json": {
       "model_id": "86ebad547fc647f188318fce08a83a50",
       "version_major": 2,
       "version_minor": 0
      },
      "text/plain": [
       "Figure(layout=FigureLayout(height='420px'))"
      ]
     },
     "metadata": {},
     "output_type": "display_data"
    }
   ],
   "source": [
    "fig = gmaps.figure()\n",
    "Souris2DrydenviaWinkler_Artyk = gmaps.directions_layer(\n",
    "        Souris, Dryden, waypoints=[Winkler, Artyk],\n",
    "        travel_mode='DRIVING', stroke_weight=3.0, stroke_opacity=1.0)\n",
    "fig.add_layer(Souris2DrydenviaWinkler_Artyk)\n",
    "fig"
   ]
  },
  {
   "cell_type": "code",
   "execution_count": 32,
   "metadata": {},
   "outputs": [],
   "source": [
    "marker_locations = [(49.62, -100.26), (49.18, -97.94), (50.15, -95.88), (49.78, -92.75)]"
   ]
  },
  {
   "cell_type": "code",
   "execution_count": 33,
   "metadata": {},
   "outputs": [
    {
     "data": {
      "application/vnd.jupyter.widget-view+json": {
       "model_id": "d174510570854aa7abad2727c177b4fc",
       "version_major": 2,
       "version_minor": 0
      },
      "text/plain": [
       "Figure(layout=FigureLayout(height='420px'))"
      ]
     },
     "metadata": {},
     "output_type": "display_data"
    }
   ],
   "source": [
    "fig = gmaps.figure()\n",
    "markers = gmaps.marker_layer(marker_locations)\n",
    "fig.add_layer(markers)\n",
    "fig"
   ]
  },
  {
   "cell_type": "code",
   "execution_count": 44,
   "metadata": {},
   "outputs": [
    {
     "data": {
      "application/vnd.jupyter.widget-view+json": {
       "model_id": "1d35b458c42542a381c8e1dc699ded6d",
       "version_major": 2,
       "version_minor": 0
      },
      "text/plain": [
       "Figure(layout=FigureLayout(height='420px'))"
      ]
     },
     "metadata": {},
     "output_type": "display_data"
    }
   ],
   "source": [
    "travel_itinerary = [{\"City\": \"Souris\", \"Location\" : (49.62, -100.26), \"Max Temp\": 44.6, \"Hotel Name\": \"The Souris Hotel\", \"Country\": \"CA\", \"Current Description\": \"broken clouds\"},{\"City\": \"Winkler\", \"Location\" : (49.18, -97.94), \"Max Temp\": 48.2, \"Hotel Name\": \"Quality Inn & Suites\", \"Country\": \"CA\", \"Current Description\": \"few clouds\"},{\"City\": \"Artyk\", \"Location\" : (50.15, -95.88), \"Max Temp\": 46.02, \"Hotel Name\": \"Pinawa Motel\", \"Country\": \"CA\", \"Current Description\": \"overcast clouds\"},{\"City\": \"Dryden\", \"Location\" : (49.78, -92.75), \"Max Temp\": 42.8, \"Hotel Name\": \"Holiday Inn Express Dryden\", \"Country\": \"CA\", \"Current Description\": \"clear sky\"}]\n",
    "city_locations = [city[\"Location\"] for city in travel_itinerary]\n",
    "info_box_template=\"\"\"\n",
    "<dl>\n",
    "<dt>City</dt><dd>{City}</dd>\n",
    "<dt>Location</dt><dd>{Location}</dd>\n",
    "<dt>Max Temp</dt><dd>{Max Temp} °F</dd>\n",
    "<dt>Hotel Name</dt><dd>{Hotel Name}</dd>\n",
    "<dt>Country</dt><dd>{Country}</dd>\n",
    "<dt>Current Description</dt><dd>{Current Description}</dd>\n",
    "</dl>\n",
    "\"\"\"\n",
    "city_info = [info_box_template.format(**city) for city in travel_itinerary]\n",
    "marker_layer = gmaps.marker_layer(city_locations, info_box_content=city_info)\n",
    "fig=gmaps.figure()\n",
    "fig.add_layer(marker_layer)\n",
    "fig"
   ]
  },
  {
   "cell_type": "code",
   "execution_count": null,
   "metadata": {},
   "outputs": [],
   "source": []
  }
 ],
 "metadata": {
  "kernelspec": {
   "display_name": "PythonData",
   "language": "python",
   "name": "pythondata"
  },
  "language_info": {
   "codemirror_mode": {
    "name": "ipython",
    "version": 3
   },
   "file_extension": ".py",
   "mimetype": "text/x-python",
   "name": "python",
   "nbconvert_exporter": "python",
   "pygments_lexer": "ipython3",
   "version": "3.7.7"
  }
 },
 "nbformat": 4,
 "nbformat_minor": 4
}
